{
 "cells": [
  {
   "cell_type": "code",
   "execution_count": 1,
   "id": "998414f6",
   "metadata": {},
   "outputs": [],
   "source": [
    "import numpy as np\n",
    "import pandas as pd\n",
    "import datetime\n",
    "import matplotlib.pyplot as plt\n",
    "from sklearn.svm import SVC\n",
    "from sklearn.model_selection import train_test_split, RandomizedSearchCV\n",
    "from sklearn.linear_model import LinearRegression, LogisticRegression\n",
    "from sklearn.ensemble import RandomForestRegressor, GradientBoostingRegressor, RandomForestClassifier, GradientBoostingClassifier\n",
    "from sklearn.metrics import mean_squared_error, mean_absolute_error, matthews_corrcoef, accuracy_score, precision_score, f1_score, confusion_matrix, silhouette_score\n",
    "from sklearn.neighbors import KNeighborsClassifier\n",
    "from sklearn.naive_bayes import GaussianNB\n",
    "from sklearn.neural_network import MLPRegressor\n",
    "from sklearn.cluster import KMeans\n",
    "from IPython.display import FileLink, FileLinks, clear_output\n",
    "from IPython.display import FileLink, FileLinks\n",
    "from xgboost import XGBRegressor\n",
    "import timeit"
   ]
  },
  {
   "cell_type": "code",
   "execution_count": 2,
   "id": "62519b84",
   "metadata": {},
   "outputs": [],
   "source": [
    "df = pd.read_csv(r\"C:\\Users\\rrava\\OneDrive\\Documents\\01 - Fall 2022\\Research Project\\Clean Datasets\\cleaned_ANL_with_waiting_times_full.csv\")"
   ]
  },
  {
   "cell_type": "code",
   "execution_count": 3,
   "id": "94c2b036",
   "metadata": {},
   "outputs": [],
   "source": [
    "test_size = 0.1"
   ]
  },
  {
   "cell_type": "code",
   "execution_count": 4,
   "id": "faa11691",
   "metadata": {},
   "outputs": [],
   "source": [
    "#Runtime model"
   ]
  },
  {
   "cell_type": "code",
   "execution_count": 5,
   "id": "f013bd7f",
   "metadata": {},
   "outputs": [],
   "source": [
    "X = df[['user_id', 'queue_number', 'submit_time', 'requested_time', 'requested_CPUs']]\n",
    "y = df[['runtime']]\n",
    "\n",
    "X_train, X_test, y_train, y_test = train_test_split(X, y, test_size = test_size, shuffle = False)"
   ]
  },
  {
   "cell_type": "code",
   "execution_count": null,
   "id": "d7b2728c",
   "metadata": {},
   "outputs": [],
   "source": []
  },
  {
   "cell_type": "code",
   "execution_count": 6,
   "id": "2653b662",
   "metadata": {},
   "outputs": [
    {
     "name": "stdout",
     "output_type": "stream",
     "text": [
      "Testing 5 minutes\n",
      "Random forest MCC: 0.5581547878055115\n",
      "Random forest f1 score: 0.8546973290708466\n",
      "Precision: 0.9563812600969306\n",
      "Testing 10 minutes\n",
      "MCC: 0.521758002642769\n",
      "F1 score: 0.8018103858980467\n",
      "Precision: 0.8987983978638184\n",
      "Testing 15 minutes\n",
      "MCC: 0.39883627179129255\n",
      "F1 score: 0.6535061873895109\n",
      "Precision: 0.8653921186110027\n",
      "Testing 30 minutes\n",
      "MCC: 0.5307323482476349\n",
      "F1 score: 0.7515413070283601\n",
      "Precision: 0.753865182436611\n",
      "Testing 60 minutes\n",
      "MCC: 0.3558529268752153\n",
      "F1 score: 0.4970884065643198\n",
      "Precision: 0.6986607142857143\n"
     ]
    }
   ],
   "source": [
    "#Naive Bayes classification\n",
    "\n",
    "df['should_wait_runtime_predicted'] = np.nan\n",
    "\n",
    "#5 minutes\n",
    "print(\"Testing \"+ str(5) + \" minutes\")\n",
    "threshold_time = (5 * 60)\n",
    "\n",
    "df['should_wait_runtime_actual'] = df['runtime'] > threshold_time\n",
    "\n",
    "X = df[['user_id', 'queue_number', 'submit_time', 'requested_time', 'requested_CPUs']]\n",
    "y = df[['should_wait_runtime_actual']]\n",
    "\n",
    "X_train, X_test, y_train, y_test = train_test_split(X, y, test_size = test_size, shuffle = False)\n",
    "\n",
    "clf = GaussianNB()\n",
    "clf.fit(X_train, y_train.values.ravel())\n",
    "\n",
    "y_pred = clf.predict(X_test)\n",
    "df.loc[y_test.index, 'should_wait_runtime_predicted_5'] = y_pred\n",
    "\n",
    "print(\"Random forest MCC: \" + str(matthews_corrcoef(y_test, y_pred)))\n",
    "print(\"Random forest f1 score: \" + str(f1_score(y_test, y_pred)))\n",
    "print(\"Precision: \" + str(precision_score(y_test, y_pred)))\n",
    "\n",
    "\n",
    "#10 minutes\n",
    "print(\"Testing \"+ str(10) + \" minutes\")\n",
    "threshold_time = (10 * 60)\n",
    "\n",
    "df['should_wait_runtime_actual'] = df['runtime'] > threshold_time\n",
    "\n",
    "X = df[['user_id', 'queue_number', 'submit_time', 'requested_time', 'requested_CPUs']]\n",
    "y = df[['should_wait_runtime_actual']]\n",
    "\n",
    "X_train, X_test, y_train, y_test = train_test_split(X, y, test_size = test_size, shuffle = False)\n",
    "\n",
    "clf.fit(X_train, y_train.values.ravel())\n",
    "\n",
    "y_pred = clf.predict(X_test)\n",
    "df.loc[y_test.index, 'should_wait_runtime_predicted_10'] = y_pred\n",
    "\n",
    "print(\"MCC: \" + str(matthews_corrcoef(y_test, y_pred)))\n",
    "print(\"F1 score: \" + str(f1_score(y_test, y_pred)))\n",
    "print(\"Precision: \" + str(precision_score(y_test, y_pred)))\n",
    "\n",
    "\n",
    "#15 minutes\n",
    "print(\"Testing \"+ str(15) + \" minutes\")\n",
    "threshold_time = (15 * 60)\n",
    "\n",
    "df['should_wait_runtime_actual'] = df['runtime'] > threshold_time\n",
    "\n",
    "X = df[['user_id', 'queue_number', 'submit_time', 'requested_time', 'requested_CPUs']]\n",
    "y = df[['should_wait_runtime_actual']]\n",
    "\n",
    "X_train, X_test, y_train, y_test = train_test_split(X, y, test_size = test_size, shuffle = False)\n",
    "\n",
    "clf.fit(X_train, y_train.values.ravel())\n",
    "\n",
    "y_pred = clf.predict(X_test)\n",
    "df.loc[y_test.index, 'should_wait_runtime_predicted_15'] = y_pred\n",
    "\n",
    "print(\"MCC: \" + str(matthews_corrcoef(y_test, y_pred)))\n",
    "print(\"F1 score: \" + str(f1_score(y_test, y_pred)))\n",
    "print(\"Precision: \" + str(precision_score(y_test, y_pred)))\n",
    "\n",
    "\n",
    "#30 minutes\n",
    "print(\"Testing \"+ str(30) + \" minutes\")\n",
    "threshold_time = (30 * 60)\n",
    "\n",
    "df['should_wait_runtime_actual'] = df['runtime'] > threshold_time\n",
    "\n",
    "X = df[['user_id', 'queue_number', 'submit_time', 'requested_time', 'requested_CPUs']]\n",
    "y = df[['should_wait_runtime_actual']]\n",
    "\n",
    "X_train, X_test, y_train, y_test = train_test_split(X, y, test_size = test_size, shuffle = False)\n",
    "\n",
    "clf.fit(X_train, y_train.values.ravel())\n",
    "\n",
    "y_pred = clf.predict(X_test)\n",
    "df.loc[y_test.index, 'should_wait_runtime_predicted_30'] = y_pred\n",
    "\n",
    "print(\"MCC: \" + str(matthews_corrcoef(y_test, y_pred)))\n",
    "print(\"F1 score: \" + str(f1_score(y_test, y_pred)))\n",
    "print(\"Precision: \" + str(precision_score(y_test, y_pred)))\n",
    "\n",
    "\n",
    "#60 minutes\n",
    "print(\"Testing \"+ str(60) + \" minutes\")\n",
    "threshold_time = (60 * 60)\n",
    "\n",
    "df['should_wait_runtime_actual'] = df['runtime'] > threshold_time\n",
    "\n",
    "X = df[['user_id', 'queue_number', 'submit_time', 'requested_time', 'requested_CPUs']]\n",
    "y = df[['should_wait_runtime_actual']]\n",
    "\n",
    "X_train, X_test, y_train, y_test = train_test_split(X, y, test_size = test_size, shuffle = False)\n",
    "\n",
    "clf.fit(X_train, y_train.values.ravel())\n",
    "\n",
    "y_pred = clf.predict(X_test)\n",
    "df.loc[y_test.index, 'should_wait_runtime_predicted_60'] = y_pred\n",
    "\n",
    "print(\"MCC: \" + str(matthews_corrcoef(y_test, y_pred)))\n",
    "print(\"F1 score: \" + str(f1_score(y_test, y_pred)))\n",
    "print(\"Precision: \" + str(precision_score(y_test, y_pred)))\n"
   ]
  },
  {
   "cell_type": "code",
   "execution_count": 7,
   "id": "18c1eb7f",
   "metadata": {},
   "outputs": [],
   "source": [
    "df = df.loc[y_test.index]"
   ]
  },
  {
   "cell_type": "code",
   "execution_count": 8,
   "id": "f47078e9",
   "metadata": {},
   "outputs": [],
   "source": [
    "df.to_csv(r'C:\\Users\\rrava\\OneDrive\\Documents\\01 - Fall 2022\\Research Project\\Clean Datasets\\ANL_trace_output_test.csv')  "
   ]
  },
  {
   "cell_type": "code",
   "execution_count": null,
   "id": "dd87c11e",
   "metadata": {},
   "outputs": [],
   "source": []
  }
 ],
 "metadata": {
  "kernelspec": {
   "display_name": "Python 3 (ipykernel)",
   "language": "python",
   "name": "python3"
  },
  "language_info": {
   "codemirror_mode": {
    "name": "ipython",
    "version": 3
   },
   "file_extension": ".py",
   "mimetype": "text/x-python",
   "name": "python",
   "nbconvert_exporter": "python",
   "pygments_lexer": "ipython3",
   "version": "3.10.0"
  }
 },
 "nbformat": 4,
 "nbformat_minor": 5
}
