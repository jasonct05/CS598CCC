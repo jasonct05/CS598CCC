{
 "cells": [
  {
   "cell_type": "code",
   "execution_count": 76,
   "id": "dc3c97e7",
   "metadata": {},
   "outputs": [],
   "source": [
    "# Load libraries required to do SVR\n",
    "import numpy as np\n",
    "import matplotlib.pyplot as plt\n",
    "import pandas as pd\n",
    "import datetime\n",
    "from sklearn.model_selection import train_test_split\n",
    "from sklearn.svm import SVR\n",
    "from sklearn import metrics\n",
    "from sklearn.preprocessing import StandardScaler"
   ]
  },
  {
   "cell_type": "code",
   "execution_count": 4,
   "id": "f125cc9b",
   "metadata": {},
   "outputs": [
    {
     "name": "stdout",
     "output_type": "stream",
     "text": [
      "rows prior to cleaning: 587889\n",
      "rows after to cleaning: 423010\n",
      "   user_ID  group_ID                submit_time                 start_time  \\\n",
      "1      351       354  2011-10-27 11:50:46-06:00  2011-10-27 11:51:06-06:00   \n",
      "2      287       288  2011-10-27 12:02:50-06:00  2011-10-27 12:03:08-06:00   \n",
      "3      287       288  2011-10-27 12:02:29-06:00  2011-10-27 12:02:36-06:00   \n",
      "4      351       354  2011-10-27 12:02:26-06:00  2011-10-27 12:02:36-06:00   \n",
      "5      351       354  2011-10-27 13:41:52-06:00  2011-10-27 13:41:54-06:00   \n",
      "\n",
      "                    end_time  wallclock_limit job_status  node_count  \\\n",
      "1  2011-10-27 11:51:13-06:00       31536000.0  COMPLETED           1   \n",
      "2  2011-10-27 12:03:13-06:00       31536000.0  COMPLETED           1   \n",
      "3  2011-10-27 12:03:14-06:00       31536000.0  COMPLETED           1   \n",
      "4  2011-10-27 12:03:18-06:00       31536000.0  COMPLETED         800   \n",
      "5  2011-10-27 13:42:02-06:00       31536000.0  COMPLETED           1   \n",
      "\n",
      "   tasks_requested  runtime  \n",
      "1               24      7.0  \n",
      "2               24      5.0  \n",
      "3               24     38.0  \n",
      "4            19200     42.0  \n",
      "5               24      8.0  \n"
     ]
    }
   ],
   "source": [
    "# Import Training CSV\n",
    "df = pd.read_csv(r\"../Dataset/mustang_release_v1.0beta.csv\")\n",
    "\n",
    "# Data Cleaning Step\n",
    "print(\"rows prior to cleaning: \" + str(df.size))\n",
    "\n",
    "# Drop first 1000 rows\n",
    "df = df.iloc[1000: , :]\n",
    "\n",
    "# Convert wallclock_limit to be in seconds\n",
    "df['wallclock_limit'] = pd.to_timedelta(df['wallclock_limit']).dt.total_seconds()\n",
    "\n",
    "# Add Runtime Attribute\n",
    "df['start_time'] = pd.to_datetime(df['start_time'])\n",
    "df['end_time'] = pd.to_datetime(df['end_time'])\n",
    "df['runtime'] = (df['end_time'] - df['start_time']).dt.total_seconds()\n",
    "\n",
    "# We only care about jobs that are completed\n",
    "df = df[df.job_status == 'COMPLETED']\n",
    "\n",
    "# Filter to only contain rows that have non-zero runtime\n",
    "df = df.dropna(subset=['start_time'])\n",
    "df = df.dropna(subset=['end_time'])\n",
    "df = df[df.runtime != 0]\n",
    "\n",
    "print('rows after to cleaning: ' + str(df.size))\n",
    "print(df.head())"
   ]
  },
  {
   "cell_type": "code",
   "execution_count": 67,
   "id": "fde3626d",
   "metadata": {},
   "outputs": [],
   "source": [
    "# Split data to Attributes(X) and Labels(y).\n",
    "X = df[['user_ID', 'group_ID', 'wallclock_limit', 'node_count', 'tasks_requested']]\n",
    "y = df[['runtime']]"
   ]
  },
  {
   "cell_type": "code",
   "execution_count": 81,
   "id": "54a34f14",
   "metadata": {},
   "outputs": [
    {
     "data": {
      "text/plain": [
       "SVR(kernel='sigmoid')"
      ]
     },
     "execution_count": 81,
     "metadata": {},
     "output_type": "execute_result"
    }
   ],
   "source": [
    "# Split data into training and testing sets:\n",
    "X_train, X_test, y_train, y_test = train_test_split(X, y, test_size=0.2, random_state=0)\n",
    "\n",
    "# Create SVR model and train it\n",
    "regressor = SVR(kernel='sigmoid')\n",
    "regressor.fit(X_train, y_train.values.ravel())"
   ]
  },
  {
   "cell_type": "code",
   "execution_count": 82,
   "id": "04665c0e",
   "metadata": {},
   "outputs": [],
   "source": [
    "#Prediction\n",
    "y_pred = regressor.predict(X_test)"
   ]
  },
  {
   "cell_type": "code",
   "execution_count": 83,
   "id": "51adfca4",
   "metadata": {},
   "outputs": [
    {
     "name": "stdout",
     "output_type": "stream",
     "text": [
      "Mean Absolute Error: 6552.364566213863\n",
      "Mean Squared Error: 245528898.86288422\n",
      "Root Mean Squared Error: 15669.36178862701\n"
     ]
    }
   ],
   "source": [
    "# metrics\n",
    "print('Mean Absolute Error:', metrics.mean_absolute_error(y_test, y_pred))\n",
    "print('Mean Squared Error:', metrics.mean_squared_error(y_test, y_pred))\n",
    "print('Root Mean Squared Error:', np.sqrt(metrics.mean_squared_error(y_test, y_pred)))"
   ]
  },
  {
   "cell_type": "code",
   "execution_count": 86,
   "id": "031535ea",
   "metadata": {},
   "outputs": [
    {
     "name": "stdout",
     "output_type": "stream",
     "text": [
      "        actual  Predicted\n",
      "36641     31.0  67.900298\n",
      "30659     11.0  68.359817\n",
      "29614     10.0  68.359860\n",
      "28667     81.0  67.900333\n",
      "60007  44169.0  61.541643\n"
     ]
    }
   ],
   "source": [
    "df_result = pd.DataFrame({'actual': y_test['runtime'], 'Predicted': y_pred.flatten()})\n",
    "print(df_result.head())"
   ]
  },
  {
   "cell_type": "code",
   "execution_count": null,
   "id": "ba4dbe26",
   "metadata": {},
   "outputs": [],
   "source": []
  }
 ],
 "metadata": {
  "kernelspec": {
   "display_name": "Python 3 (ipykernel)",
   "language": "python",
   "name": "python3"
  },
  "language_info": {
   "codemirror_mode": {
    "name": "ipython",
    "version": 3
   },
   "file_extension": ".py",
   "mimetype": "text/x-python",
   "name": "python",
   "nbconvert_exporter": "python",
   "pygments_lexer": "ipython3",
   "version": "3.9.13"
  }
 },
 "nbformat": 4,
 "nbformat_minor": 5
}
